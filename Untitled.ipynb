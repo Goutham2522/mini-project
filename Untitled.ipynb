{
 "cells": [
  {
   "cell_type": "code",
   "execution_count": 6,
   "id": "b067178a-fb15-4457-ad08-899f1a6efe50",
   "metadata": {},
   "outputs": [
    {
     "name": "stdout",
     "output_type": "stream",
     "text": [
      "Name: opencv-python\n",
      "Version: 4.10.0.84\n",
      "Summary: Wrapper package for OpenCV python bindings.\n",
      "Home-page: https://github.com/opencv/opencv-python\n",
      "Author: \n",
      "Author-email: \n",
      "License: Apache 2.0\n",
      "Location: C:\\Users\\shash\\AppData\\Roaming\\Python\\Python312\\site-packages\n",
      "Requires: numpy\n",
      "Required-by: \n",
      "Note: you may need to restart the kernel to use updated packages.\n"
     ]
    }
   ],
   "source": [
    "pip show opencv-python\n"
   ]
  },
  {
   "cell_type": "code",
   "execution_count": 2,
   "id": "03b134fb-ca0b-4fb5-8c44-2c3ce627f7dd",
   "metadata": {},
   "outputs": [
    {
     "ename": "error",
     "evalue": "OpenCV(4.10.0) D:\\a\\opencv-python\\opencv-python\\opencv\\modules\\imgproc\\src\\color.cpp:196: error: (-215:Assertion failed) !_src.empty() in function 'cv::cvtColor'\n",
     "output_type": "error",
     "traceback": [
      "\u001b[1;31m---------------------------------------------------------------------------\u001b[0m",
      "\u001b[1;31merror\u001b[0m                                     Traceback (most recent call last)",
      "Cell \u001b[1;32mIn[2], line 11\u001b[0m\n\u001b[0;32m      9\u001b[0m \u001b[38;5;66;03m# Reading the image in default mode\u001b[39;00m\n\u001b[0;32m     10\u001b[0m img \u001b[38;5;241m=\u001b[39m cv2\u001b[38;5;241m.\u001b[39mimread(image_path)\n\u001b[1;32m---> 11\u001b[0m img \u001b[38;5;241m=\u001b[39m cv2\u001b[38;5;241m.\u001b[39mcvtColor(img, cv2\u001b[38;5;241m.\u001b[39mCOLOR_BGR2RGB)  \u001b[38;5;66;03m# Converting BGR to RGB\u001b[39;00m\n\u001b[0;32m     13\u001b[0m \u001b[38;5;66;03m# Resize the image to the size expected by the model (128x128)\u001b[39;00m\n\u001b[0;32m     14\u001b[0m img_resized \u001b[38;5;241m=\u001b[39m cv2\u001b[38;5;241m.\u001b[39mresize(img, (\u001b[38;5;241m128\u001b[39m, \u001b[38;5;241m128\u001b[39m))\n",
      "\u001b[1;31merror\u001b[0m: OpenCV(4.10.0) D:\\a\\opencv-python\\opencv-python\\opencv\\modules\\imgproc\\src\\color.cpp:196: error: (-215:Assertion failed) !_src.empty() in function 'cv::cvtColor'\n"
     ]
    }
   ],
   "source": [
    "import cv2\n",
    "import numpy as np\n",
    "import matplotlib.pyplot as plt\n",
    "from tensorflow.keras.preprocessing import image\n",
    "\n",
    "# Path to the test image\n",
    "image_path = 'test/test/AppleCedarRust1.JPG'\n",
    "\n",
    "# Reading the image in default mode\n",
    "img = cv2.imread(image_path)\n",
    "img = cv2.cvtColor(img, cv2.COLOR_BGR2RGB)  # Converting BGR to RGB\n",
    "\n",
    "# Resize the image to the size expected by the model (128x128)\n",
    "img_resized = cv2.resize(img, (128, 128))\n",
    "\n",
    "# Normalize the image (pixel values between 0 and 1)\n",
    "img_resized = img_resized / 255.0\n",
    "\n",
    "# Display the resized image to ensure it looks correct\n",
    "plt.imshow(img_resized)\n",
    "plt.title('Test Image')\n",
    "plt.xticks([])  # Hide x-axis ticks\n",
    "plt.yticks([])  # Hide y-axis ticks\n",
    "plt.show()\n",
    "\n",
    "# Convert image to array and add batch dimension\n",
    "input_arr = np.expand_dims(img_resized, axis=0)  # Add batch dimension\n",
    "\n",
    "# Perform the prediction\n",
    "predictions = cnn.predict(input_arr)\n",
    "\n",
    "# Get the result index and confidence level of the prediction\n",
    "result_index = np.argmax(predictions)  # Index of the highest prediction value\n",
    "confidence_value = predictions[0][result_index]  # Confidence value of the predicted class\n",
    "\n",
    "# Define a threshold for the confidence\n",
    "confidence_threshold = 0.5  # 50% confidence threshold\n",
    "\n",
    "# If the confidence is below the threshold, consider it as \"No disease detected\"\n",
    "if confidence_value < confidence_threshold:\n",
    "    model_prediction = \"No disease detected\"\n",
    "else:\n",
    "    model_prediction = class_name[result_index]  # Disease name from class_names\n",
    "\n",
    "# Display the result with the prediction\n",
    "plt.imshow(img_resized)\n",
    "plt.title(f\"Disease Name: {model_prediction}\")\n",
    "plt.xticks([])  # Hide x-axis ticks\n",
    "plt.yticks([])  # Hide y-axis ticks\n",
    "plt.show()\n"
   ]
  },
  {
   "cell_type": "code",
   "execution_count": 4,
   "id": "e2ab7ec3-ad79-4f44-96f0-e3626edfdf7c",
   "metadata": {},
   "outputs": [
    {
     "ename": "FileNotFoundError",
     "evalue": "Image file not found: path_to_your_image.jpg",
     "output_type": "error",
     "traceback": [
      "\u001b[1;31m---------------------------------------------------------------------------\u001b[0m",
      "\u001b[1;31mFileNotFoundError\u001b[0m                         Traceback (most recent call last)",
      "Cell \u001b[1;32mIn[4], line 8\u001b[0m\n\u001b[0;32m      6\u001b[0m \u001b[38;5;66;03m# Verify the file exists\u001b[39;00m\n\u001b[0;32m      7\u001b[0m \u001b[38;5;28;01mif\u001b[39;00m \u001b[38;5;129;01mnot\u001b[39;00m os\u001b[38;5;241m.\u001b[39mpath\u001b[38;5;241m.\u001b[39mexists(image_path):\n\u001b[1;32m----> 8\u001b[0m     \u001b[38;5;28;01mraise\u001b[39;00m \u001b[38;5;167;01mFileNotFoundError\u001b[39;00m(\u001b[38;5;124mf\u001b[39m\u001b[38;5;124m\"\u001b[39m\u001b[38;5;124mImage file not found: \u001b[39m\u001b[38;5;132;01m{\u001b[39;00mimage_path\u001b[38;5;132;01m}\u001b[39;00m\u001b[38;5;124m\"\u001b[39m)\n\u001b[0;32m     10\u001b[0m \u001b[38;5;66;03m# Read and process the image\u001b[39;00m\n\u001b[0;32m     11\u001b[0m img \u001b[38;5;241m=\u001b[39m cv2\u001b[38;5;241m.\u001b[39mimread(image_path)\n",
      "\u001b[1;31mFileNotFoundError\u001b[0m: Image file not found: path_to_your_image.jpg"
     ]
    }
   ],
   "source": [
    "import cv2\n",
    "import os\n",
    "\n",
    "image_path = \"path_to_your_image.jpg\"\n",
    "\n",
    "# Verify the file exists\n",
    "if not os.path.exists(image_path):\n",
    "    raise FileNotFoundError(f\"Image file not found: {image_path}\")\n",
    "\n",
    "# Read and process the image\n",
    "img = cv2.imread(image_path)\n",
    "if img is None:\n",
    "    raise ValueError(f\"Failed to load the image. Ensure the file at {image_path} is valid and readable.\")\n",
    "\n",
    "img = cv2.cvtColor(img, cv2.COLOR_BGR2RGB)  # Convert to RGB\n",
    "\n",
    "# Resize the image\n",
    "img_resized = cv2.resize(img, (128, 128))\n",
    "\n"
   ]
  },
  {
   "cell_type": "code",
   "execution_count": null,
   "id": "10d9c301-5c42-4761-adda-4bb1486f15a4",
   "metadata": {},
   "outputs": [],
   "source": []
  }
 ],
 "metadata": {
  "kernelspec": {
   "display_name": "Python 3 (ipykernel)",
   "language": "python",
   "name": "python3"
  },
  "language_info": {
   "codemirror_mode": {
    "name": "ipython",
    "version": 3
   },
   "file_extension": ".py",
   "mimetype": "text/x-python",
   "name": "python",
   "nbconvert_exporter": "python",
   "pygments_lexer": "ipython3",
   "version": "3.12.7"
  }
 },
 "nbformat": 4,
 "nbformat_minor": 5
}
